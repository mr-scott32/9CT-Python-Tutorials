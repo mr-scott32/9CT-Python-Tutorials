{
 "cells": [
  {
   "cell_type": "markdown",
   "metadata": {},
   "source": [
    "# Dictionary Activities\n",
    "\n",
    "### Person and Student Dictionaries\n",
    "Follow along to create and manipulate simple data using dictionaries. Create your own version of each one below in the code window. This first set of activities you essentially are just creating a 'student' dictionary which is identical to the 'person' dictionary, just so that you can see it all work.\n"
   ]
  },
  {
   "cell_type": "code",
   "execution_count": null,
   "metadata": {},
   "outputs": [],
   "source": [
    "# Creating a Dictionary\n",
    "person = {'name': 'Alice', 'age': 30, 'city': 'New York'}\n",
    "\n",
    "# Accessing Dictionary Values\n",
    "print(person['name'])\n",
    "print(person['age'])\n",
    "\n",
    "# Updating Dictionary Values\n",
    "person['city'] = 'San Francisco'\n",
    "\n",
    "# Adding a New Key-Value Pair\n",
    "person['email'] = 'alice@example.com'\n",
    "\n",
    "# Removing a Key-Value Pair\n",
    "del person['age']\n",
    "\n",
    "# Iterating Over Dictionary Keys\n",
    "for key in person:\n",
    "    print(key)\n",
    "\n",
    "# Iterating Over Dictionary Items\n",
    "for key, value in person.items():\n",
    "    print(key, value)\n",
    "\n",
    "# Checking if a Key Exists\n",
    "if 'email' in person:\n",
    "    print(\"Email key exists.\")\n",
    "else:\n",
    "    print(\"Email key does not exist.\")\n"
   ]
  },
  {
   "cell_type": "code",
   "execution_count": 3,
   "metadata": {},
   "outputs": [
    {
     "name": "stdout",
     "output_type": "stream",
     "text": [
      "Name: Alice\n",
      "Age: 15\n",
      "Keys:\n",
      "name\n",
      "suburb\n",
      "email\n",
      "Items:\n",
      "name : Alice\n",
      "suburb : Gosford\n",
      "email : alice.soerjosoebroto@education.nsw.gov.au\n",
      "Email key exists in the student dictionary.\n"
     ]
    }
   ],
   "source": [
    "# Create a dictionary representing a student with keys for 'name', 'age', and 'suburb'.\n",
    "student = {\n",
    "    'name': 'Alice',\n",
    "    'age': 15,\n",
    "    'suburb': 'San Remo'\n",
    "}\n",
    "\n",
    "# Access and print the values of the 'name' and 'age' keys from the student dictionary.\n",
    "print(\"Name:\", student['name'])\n",
    "print(\"Age:\", student['age'])\n",
    "\n",
    "# Update the 'suburb' value in the student dictionary to 'Gosford'.\n",
    "student['suburb'] = 'Gosford'  # Assuming the student doesn't live in Gosford\n",
    "\n",
    "# Add a new key-value pair to the student dictionary for 'email' with a value of 'alice.soerjosoebroto@education.nsw.gov.au'.\n",
    "student['email'] = 'alice.soerjosoebroto@education.nsw.gov.au'\n",
    "\n",
    "# Remove the 'age' key and its corresponding value from the student dictionary.\n",
    "del student['age']\n",
    "\n",
    "# Iterate over the keys in the student dictionary and print each key.\n",
    "print(\"Keys:\")\n",
    "for key in student.keys():\n",
    "    print(key)\n",
    "\n",
    "# Iterate over the key-value pairs (items) in the student dictionary and print each item.\n",
    "print(\"Items:\")\n",
    "for key, value in student.items():\n",
    "    print(key, \":\", value)\n",
    "\n",
    "# Check if the 'email' key exists in the student dictionary and print a message based on its existence.\n",
    "if 'email' in student:\n",
    "    print(\"Email key exists in the student dictionary.\")\n",
    "else:\n",
    "    print(\"Email key does not exist in the student dictionary.\")\n"
   ]
  },
  {
   "cell_type": "markdown",
   "metadata": {},
   "source": [
    "### Nested Dictionaries:\n",
    "\n",
    "You can create nested dictionaries to represent more complex data structures. For example, let's enhance the person dictionary to include nested information about their education and work experience:"
   ]
  },
  {
   "cell_type": "code",
   "execution_count": null,
   "metadata": {},
   "outputs": [],
   "source": [
    "person = {\n",
    "    'name': 'Alice',\n",
    "    'age': 30,\n",
    "    'education': {\n",
    "        'degree': 'Bachelor of Science',\n",
    "        'major': 'Computer Science',\n",
    "        'university': 'ABC University'\n",
    "    },\n",
    "    'work_experience': [\n",
    "        {'position': 'Software Engineer', 'company': 'XYZ Corp', 'years': 3},\n",
    "        {'position': 'Data Analyst', 'company': 'ABC Inc', 'years': 2}\n",
    "    ]\n",
    "}"
   ]
  },
  {
   "cell_type": "markdown",
   "metadata": {},
   "source": [
    "### Accessing Nested Values:\n",
    "\n",
    "To access values in nested dictionaries, use multiple square brackets [ ] or the .get() method. Here are two examples of how to get Alice's university:"
   ]
  },
  {
   "cell_type": "code",
   "execution_count": null,
   "metadata": {},
   "outputs": [],
   "source": [
    "university = person['education']['university']\n",
    "print(university)"
   ]
  },
  {
   "cell_type": "code",
   "execution_count": null,
   "metadata": {},
   "outputs": [],
   "source": [
    "university = person.get('education').get('university')\n",
    "print(university)"
   ]
  },
  {
   "cell_type": "markdown",
   "metadata": {},
   "source": [
    "### Working with Lists in Dictionaries:\n",
    "\n",
    "Dictionaries can have lists as values. You can append, remove, or modify list elements within a dictionary. For instance, let's add a new job to Alice's work experience:"
   ]
  },
  {
   "cell_type": "code",
   "execution_count": null,
   "metadata": {},
   "outputs": [],
   "source": [
    "new_job = {'position': 'Project Manager', 'company': 'XYZ Corp', 'years': 1}\n",
    "person['work_experience'].append(new_job)\n"
   ]
  },
  {
   "cell_type": "markdown",
   "metadata": {},
   "source": [
    "### Updating Nested Values:\n",
    "\n",
    "You can update nested values directly by assigning new values. For example, let's update Alice's age and degree:"
   ]
  },
  {
   "cell_type": "code",
   "execution_count": null,
   "metadata": {},
   "outputs": [],
   "source": [
    "person['age'] = 31\n",
    "person['education']['degree'] = 'Master of Science'"
   ]
  },
  {
   "cell_type": "markdown",
   "metadata": {},
   "source": [
    "### Dictionary Comprehension:\n",
    "\n",
    "Similar to list comprehension, you can use dictionary comprehension to create dictionaries in a concise manner. For example, let's create a dictionary of squares:"
   ]
  },
  {
   "cell_type": "code",
   "execution_count": null,
   "metadata": {},
   "outputs": [],
   "source": [
    "squares = {x: x**2 for x in range(1, 6)}\n",
    "print(squares)"
   ]
  },
  {
   "cell_type": "markdown",
   "metadata": {},
   "source": [
    "### Merging Dictionaries:\n",
    "\n",
    "You can merge dictionaries using the update() method or dictionary unpacking (**). For example, let's merge two dictionaries:"
   ]
  },
  {
   "cell_type": "code",
   "execution_count": null,
   "metadata": {},
   "outputs": [],
   "source": [
    "dict1 = {'a': 1, 'b': 2}\n",
    "dict2 = {'c': 3, 'd': 4}\n",
    "dict1.update(dict2)\n",
    "\n",
    "# Alternatively: merged_dict = {**dict1, **dict2}"
   ]
  },
  {
   "cell_type": "markdown",
   "metadata": {},
   "source": [
    "# Challenge 1: Create a Dictionary\n",
    "\n",
    "Create a program that stores information about a student using a dictionary.\n",
    "\n",
    "* The program should ask the user to input the student's name, age, and favorite subject.\n",
    "* Store this information in a dictionary with keys 'name', 'age', and 'favorite_subject'.\n",
    "* Finally, display the student's information from the dictionary."
   ]
  },
  {
   "cell_type": "code",
   "execution_count": null,
   "metadata": {},
   "outputs": [],
   "source": [
    "# Ask the user to input student information\n",
    "name = input(\"Enter student's name: \")\n",
    "age = input(\"Enter student's age: \")\n",
    "favorite_subject = input(\"Enter student's favorite subject: \")\n",
    "\n",
    "# Create a dictionary to store student information\n",
    "student_info = {'name': name, 'age': age, 'favorite_subject': favorite_subject}\n",
    "\n",
    "# Display the student's information from the dictionary\n",
    "print(\"Student Information:\")\n",
    "print(f\"Name: {student_info['name']}\")\n",
    "print(f\"Age: {student_info['age']}\")\n",
    "print(f\"Favorite Subject: {student_info['favorite_subject']}\")"
   ]
  },
  {
   "cell_type": "markdown",
   "metadata": {},
   "source": [
    "# Challenge 2: Arm Yourself Against Zombies!\n",
    "\n",
    "Create a program that manages an arsenal of anti-zombie weapons using a dictionary. The program should have functions to do the following:\n",
    "\n",
    "* Add a new weapon to the arsenal with its name and quantity.\n",
    "* Display all weapons in the arsenal with their quantities.\n",
    "* Search for a weapon by name and display its quantity if found.\n",
    "* Remove a weapon from the arsenal by name.\n",
    "* Implement the program using functions to modularize the code and make it more organized."
   ]
  },
  {
   "cell_type": "code",
   "execution_count": 1,
   "metadata": {},
   "outputs": [
    {
     "name": "stdout",
     "output_type": "stream",
     "text": [
      "Weapon 'Flamethrower' added to the arsenal.\n",
      "Weapons Arsenal:\n",
      "Weapon: Shotgun, Quantity: 10\n",
      "Weapon: Machete, Quantity: 5\n",
      "Weapon: Crossbow, Quantity: 8\n",
      "Weapon: Hand Grenade, Quantity: 3\n",
      "Weapon: Flamethrower, Quantity: 2\n",
      "Weapon 'Crossbow' Quantity: 8\n",
      "Weapon 'Machete' removed from the arsenal.\n",
      "Weapons Arsenal:\n",
      "Weapon: Shotgun, Quantity: 10\n",
      "Weapon: Crossbow, Quantity: 8\n",
      "Weapon: Hand Grenade, Quantity: 3\n",
      "Weapon: Flamethrower, Quantity: 2\n"
     ]
    }
   ],
   "source": [
    "# Function to add a new weapon to the arsenal\n",
    "def add_weapon(arsenal, weapon_name, weapon_quantity):\n",
    "    arsenal[weapon_name] = weapon_quantity\n",
    "    print(f\"Weapon '{weapon_name}' added to the arsenal.\")\n",
    "\n",
    "# Function to display all weapons in the arsenal\n",
    "def display_arsenal(arsenal):\n",
    "    print(\"Weapons Arsenal:\")\n",
    "    for weapon, quantity in arsenal.items():\n",
    "        print(f\"Weapon: {weapon}, Quantity: {quantity}\")\n",
    "\n",
    "# Function to search for a weapon by name and display its quantity\n",
    "def search_weapon(arsenal, weapon_name):\n",
    "    if weapon_name in arsenal:\n",
    "        print(f\"Weapon '{weapon_name}' Quantity: {arsenal[weapon_name]}\")\n",
    "    else:\n",
    "        print(f\"Weapon '{weapon_name}' not found in the arsenal.\")\n",
    "\n",
    "# Function to remove a weapon from the arsenal\n",
    "def remove_weapon(arsenal, weapon_name):\n",
    "    if weapon_name in arsenal:\n",
    "        del arsenal[weapon_name]\n",
    "        print(f\"Weapon '{weapon_name}' removed from the arsenal.\")\n",
    "    else:\n",
    "        print(f\"Weapon '{weapon_name}' not found in the arsenal.\")\n",
    "\n",
    "# Main program\n",
    "anti_zombie_arsenal = {\n",
    "    'Shotgun': 10,\n",
    "    'Machete': 5,\n",
    "    'Crossbow': 8,\n",
    "    'Hand Grenade': 3\n",
    "}\n",
    "\n",
    "# Example usage of the functions\n",
    "add_weapon(anti_zombie_arsenal, 'Flamethrower', 2)\n",
    "display_arsenal(anti_zombie_arsenal)\n",
    "\n",
    "search_weapon(anti_zombie_arsenal, 'Crossbow')\n",
    "\n",
    "remove_weapon(anti_zombie_arsenal, 'Machete')\n",
    "display_arsenal(anti_zombie_arsenal)\n"
   ]
  },
  {
   "cell_type": "markdown",
   "metadata": {},
   "source": [
    "# Extension Challenge: Grade Calculator\n",
    "\n",
    "Create a program that calculates the average grade for a student based on their scores in different subjects.\n",
    "\n",
    "* The program should ask the user to enter the student's name, followed by their scores in three subjects: Math, Science, and English.\n",
    "* Store the scores in a dictionary where the keys are the subject names and the values are lists containing the student's scores for each subject.\n",
    "* Calculate the average grade for the student using the formula: (Math + Science + English) / 3.\n",
    "* Display the student's name, scores in each subject, and the calculated average grade.\n"
   ]
  },
  {
   "cell_type": "code",
   "execution_count": 2,
   "metadata": {},
   "outputs": [
    {
     "name": "stdout",
     "output_type": "stream",
     "text": [
      "Student Name: Bob\n",
      "Subject Scores:\n",
      "Math: 10.0\n",
      "Science: 15.0\n",
      "English: 20.0\n",
      "Average Grade: 15.00\n"
     ]
    }
   ],
   "source": [
    "# Function to calculate average grade\n",
    "def calculate_average_grade(scores):\n",
    "    # Calculate the total score by summing all the scores in the dictionary\n",
    "    total_score = sum(scores.values())\n",
    "    # Calculate the average grade by dividing the total score by the number of subjects\n",
    "    average_grade = total_score / len(scores)\n",
    "    return average_grade\n",
    "\n",
    "# Function to display student information\n",
    "def display_student_info(name, scores, average_grade):\n",
    "    # Print the student's name\n",
    "    print(f\"Student Name: {name}\")\n",
    "    print(\"Subject Scores:\")\n",
    "    # Iterate over the subjects and scores in the dictionary and print each subject's score\n",
    "    for subject, score in scores.items():\n",
    "        print(f\"{subject}: {score}\")\n",
    "    # Print the calculated average grade\n",
    "    print(f\"Average Grade: {average_grade:.2f}\")\n",
    "\n",
    "# Main program\n",
    "# Prompt the user to enter the student's name\n",
    "name = input(\"Enter student's name: \")\n",
    "\n",
    "# Prompt the user to enter scores for Math, Science, and English\n",
    "math_score = float(input(\"Enter Math score: \"))\n",
    "science_score = float(input(\"Enter Science score: \"))\n",
    "english_score = float(input(\"Enter English score: \"))\n",
    "\n",
    "# Create a dictionary to store the scores with subject names as keys\n",
    "scores = {'Math': math_score, 'Science': science_score, 'English': english_score}\n",
    "# Calculate the average grade using the calculate_average_grade function\n",
    "average_grade = calculate_average_grade(scores)\n",
    "# Display the student's information using the display_student_info function\n",
    "display_student_info(name, scores, average_grade)\n"
   ]
  }
 ],
 "metadata": {
  "kernelspec": {
   "display_name": "Python 3",
   "language": "python",
   "name": "python3"
  },
  "language_info": {
   "codemirror_mode": {
    "name": "ipython",
    "version": 3
   },
   "file_extension": ".py",
   "mimetype": "text/x-python",
   "name": "python",
   "nbconvert_exporter": "python",
   "pygments_lexer": "ipython3",
   "version": "3.11.8"
  }
 },
 "nbformat": 4,
 "nbformat_minor": 2
}
